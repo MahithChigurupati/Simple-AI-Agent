{
 "cells": [
  {
   "cell_type": "code",
   "execution_count": 5,
   "id": "c27f9e18-4866-467f-803b-71b9df798cc4",
   "metadata": {},
   "outputs": [
    {
     "name": "stdout",
     "output_type": "stream",
     "text": [
      "API Key Loaded Successfully\n"
     ]
    }
   ],
   "source": [
    "import os\n",
    "from dotenv import load_dotenv\n",
    "from openai import OpenAI\n",
    "\n",
    "load_dotenv()\n",
    "\n",
    "openai_api_key = os.getenv(\"OPENAI_API_KEY\")\n",
    "client = OpenAI(api_key=openai_api_key)\n",
    "\n",
    "print(\"API Key Loaded Successfully\" if api_key else \"API Key Not Found\")"
   ]
  },
  {
   "cell_type": "code",
   "execution_count": 6,
   "id": "4e06f5e6-7ae7-47d9-97e5-d8af8969d7c1",
   "metadata": {},
   "outputs": [],
   "source": [
    "completion = client.chat.completions.create(\n",
    "    model=\"gpt-4o\",\n",
    "    messages=[\n",
    "        {\"role\": \"system\", \"content\": \"You're a helpful assistant.\"},\n",
    "        {\n",
    "            \"role\": \"user\",\n",
    "            \"content\": \"Write a limerick about the Python programming language.\",\n",
    "        },\n",
    "    ],\n",
    ")"
   ]
  },
  {
   "cell_type": "code",
   "execution_count": 7,
   "id": "38eb8ea2-5ac8-4c83-81bf-5892c716e2b3",
   "metadata": {},
   "outputs": [
    {
     "name": "stdout",
     "output_type": "stream",
     "text": [
      "In the world of coding, there's Python,  \n",
      "Its syntax as clear as the dawn.  \n",
      "With libraries vast,  \n",
      "It’s unsurpassed,  \n",
      "For programmers, it's love that’s lifelong.\n"
     ]
    }
   ],
   "source": [
    "response = completion.choices[0].message.content\n",
    "print(response)"
   ]
  },
  {
   "cell_type": "code",
   "execution_count": 8,
   "id": "0acc6213-a189-424a-9de0-7784e1b16d9b",
   "metadata": {},
   "outputs": [],
   "source": [
    "# "
   ]
  },
  {
   "cell_type": "code",
   "execution_count": 9,
   "id": "37a066f9-7209-41f4-a401-b3a59a5e3640",
   "metadata": {},
   "outputs": [],
   "source": [
    "# "
   ]
  },
  {
   "cell_type": "code",
   "execution_count": 26,
   "id": "adeb3fb9-0d89-4caa-9feb-3f968b1ab69b",
   "metadata": {},
   "outputs": [],
   "source": [
    "from pydantic import BaseModel, Field\n",
    "\n",
    "class CalendarEvent(BaseModel):\n",
    "    name: str\n",
    "    date: str\n",
    "    participants: list[str]"
   ]
  },
  {
   "cell_type": "code",
   "execution_count": 11,
   "id": "fbed2bcc-eda0-45b4-9431-0522042360f3",
   "metadata": {},
   "outputs": [],
   "source": [
    "completion = client.beta.chat.completions.parse(\n",
    "    model=\"gpt-4o\",\n",
    "    messages=[\n",
    "        {\"role\": \"system\", \"content\": \"Extract the event information.\"},\n",
    "        {\n",
    "            \"role\": \"user\",\n",
    "            \"content\": \"Alice and Bob are going to a science fair on Friday.\",\n",
    "        },\n",
    "    ],\n",
    "    response_format=CalendarEvent,\n",
    ")"
   ]
  },
  {
   "cell_type": "code",
   "execution_count": 13,
   "id": "90949e63-d79e-475a-99b2-200df9cea2f7",
   "metadata": {},
   "outputs": [
    {
     "data": {
      "text/plain": [
       "'Science Fair'"
      ]
     },
     "execution_count": 13,
     "metadata": {},
     "output_type": "execute_result"
    }
   ],
   "source": [
    "event = completion.choices[0].message.parsed\n",
    "event.name"
   ]
  },
  {
   "cell_type": "code",
   "execution_count": 14,
   "id": "6a7ae5be-1374-46b2-8878-c649b217f9e7",
   "metadata": {},
   "outputs": [
    {
     "data": {
      "text/plain": [
       "'Friday'"
      ]
     },
     "execution_count": 14,
     "metadata": {},
     "output_type": "execute_result"
    }
   ],
   "source": [
    "event.date"
   ]
  },
  {
   "cell_type": "code",
   "execution_count": 15,
   "id": "2df8521b-cdbe-4068-bf15-76d356f7fb0f",
   "metadata": {},
   "outputs": [
    {
     "data": {
      "text/plain": [
       "['Alice', 'Bob']"
      ]
     },
     "execution_count": 15,
     "metadata": {},
     "output_type": "execute_result"
    }
   ],
   "source": [
    "event.participants"
   ]
  },
  {
   "cell_type": "code",
   "execution_count": 16,
   "id": "849ee87f-0cb5-4e0e-ab25-0201396f9a60",
   "metadata": {},
   "outputs": [],
   "source": [
    "# "
   ]
  },
  {
   "cell_type": "code",
   "execution_count": 17,
   "id": "38d60c62-7c4d-4c16-a970-4a6bd8adf5f0",
   "metadata": {},
   "outputs": [],
   "source": [
    "# "
   ]
  },
  {
   "cell_type": "code",
   "execution_count": 18,
   "id": "651c2256-2691-4ed1-8c7f-8f0313aa3e27",
   "metadata": {},
   "outputs": [],
   "source": [
    "import requests\n",
    "import json\n",
    "\n",
    "def get_weather(latitude, longitude):\n",
    "    \"\"\"This is a publically available API that returns the weather for a given location.\"\"\"\n",
    "    response = requests.get(\n",
    "        f\"https://api.open-meteo.com/v1/forecast?latitude={latitude}&longitude={longitude}&current=temperature_2m,wind_speed_10m&hourly=temperature_2m,relative_humidity_2m,wind_speed_10m\"\n",
    "    )\n",
    "    data = response.json()\n",
    "    return data[\"current\"]"
   ]
  },
  {
   "cell_type": "code",
   "execution_count": 19,
   "id": "eebd3053-ff54-438e-8dff-142a631370db",
   "metadata": {},
   "outputs": [],
   "source": [
    "tools = [\n",
    "    {\n",
    "        \"type\": \"function\",\n",
    "        \"function\": {\n",
    "            \"name\": \"get_weather\",\n",
    "            \"description\": \"Get current temperature for provided coordinates in celsius.\",\n",
    "            \"parameters\": {\n",
    "                \"type\": \"object\",\n",
    "                \"properties\": {\n",
    "                    \"latitude\": {\"type\": \"number\"},\n",
    "                    \"longitude\": {\"type\": \"number\"},\n",
    "                },\n",
    "                \"required\": [\"latitude\", \"longitude\"],\n",
    "                \"additionalProperties\": False,\n",
    "            },\n",
    "            \"strict\": True,\n",
    "        },\n",
    "    }\n",
    "]"
   ]
  },
  {
   "cell_type": "code",
   "execution_count": 20,
   "id": "f048437b-6476-411d-912f-eedf3a5d4329",
   "metadata": {},
   "outputs": [],
   "source": [
    "system_prompt = \"You are a helpful weather assistant.\"\n",
    "\n",
    "messages = [\n",
    "    {\"role\": \"system\", \"content\": system_prompt},\n",
    "    {\"role\": \"user\", \"content\": \"What's the weather like in Paris today?\"},\n",
    "]\n",
    "\n",
    "completion = client.chat.completions.create(\n",
    "    model=\"gpt-4o\",\n",
    "    messages=messages,\n",
    "    tools=tools,\n",
    ")"
   ]
  },
  {
   "cell_type": "code",
   "execution_count": 22,
   "id": "d6bc9057-4e78-4347-a6ac-d04febbaac77",
   "metadata": {},
   "outputs": [
    {
     "data": {
      "text/plain": [
       "{'id': 'chatcmpl-BG3vlnWepmGDb94m2wjhnqc91j4aa',\n",
       " 'choices': [{'finish_reason': 'tool_calls',\n",
       "   'index': 0,\n",
       "   'logprobs': None,\n",
       "   'message': {'content': None,\n",
       "    'refusal': None,\n",
       "    'role': 'assistant',\n",
       "    'annotations': [],\n",
       "    'audio': None,\n",
       "    'function_call': None,\n",
       "    'tool_calls': [{'id': 'call_uq8TblTVOcZae7zZPRjhA87w',\n",
       "      'function': {'arguments': '{\"latitude\":48.8566,\"longitude\":2.3522}',\n",
       "       'name': 'get_weather'},\n",
       "      'type': 'function'}]}}],\n",
       " 'created': 1743168057,\n",
       " 'model': 'gpt-4o-2024-08-06',\n",
       " 'object': 'chat.completion',\n",
       " 'service_tier': 'default',\n",
       " 'system_fingerprint': 'fp_6dd05565ef',\n",
       " 'usage': {'completion_tokens': 25,\n",
       "  'prompt_tokens': 66,\n",
       "  'total_tokens': 91,\n",
       "  'completion_tokens_details': {'accepted_prediction_tokens': 0,\n",
       "   'audio_tokens': 0,\n",
       "   'reasoning_tokens': 0,\n",
       "   'rejected_prediction_tokens': 0},\n",
       "  'prompt_tokens_details': {'audio_tokens': 0, 'cached_tokens': 0}}}"
      ]
     },
     "execution_count": 22,
     "metadata": {},
     "output_type": "execute_result"
    }
   ],
   "source": [
    "completion.model_dump()"
   ]
  },
  {
   "cell_type": "code",
   "execution_count": 23,
   "id": "2dc8b420-7648-4bf3-bea3-70ac4b3cc813",
   "metadata": {},
   "outputs": [],
   "source": [
    "def call_function(name, args):\n",
    "    if name == \"get_weather\":\n",
    "        return get_weather(**args)"
   ]
  },
  {
   "cell_type": "code",
   "execution_count": 24,
   "id": "b4b19635-55df-4d3d-9952-9f615159badc",
   "metadata": {},
   "outputs": [],
   "source": [
    "for tool_call in completion.choices[0].message.tool_calls:\n",
    "    name = tool_call.function.name\n",
    "    args = json.loads(tool_call.function.arguments)\n",
    "    messages.append(completion.choices[0].message)\n",
    "\n",
    "    result = call_function(name, args)\n",
    "    messages.append(\n",
    "        {\"role\": \"tool\", \"tool_call_id\": tool_call.id, \"content\": json.dumps(result)}\n",
    "    )"
   ]
  },
  {
   "cell_type": "code",
   "execution_count": 27,
   "id": "e06aced3-be8d-4e74-b3c8-0e452fe091f4",
   "metadata": {},
   "outputs": [],
   "source": [
    "class WeatherResponse(BaseModel):\n",
    "    temperature: float = Field(\n",
    "        description=\"The current temperature in celsius for the given location.\"\n",
    "    )\n",
    "    response: str = Field(\n",
    "        description=\"A natural language response to the user's question.\"\n",
    "    )"
   ]
  },
  {
   "cell_type": "code",
   "execution_count": 28,
   "id": "5dacf9be-dd9c-40a7-b2ef-b44964b8ea96",
   "metadata": {},
   "outputs": [],
   "source": [
    "completion_2 = client.beta.chat.completions.parse(\n",
    "    model=\"gpt-4o\",\n",
    "    messages=messages,\n",
    "    tools=tools,\n",
    "    response_format=WeatherResponse,\n",
    ")"
   ]
  },
  {
   "cell_type": "code",
   "execution_count": 31,
   "id": "01049c76-3e48-48cc-a6c0-8c8632d1846f",
   "metadata": {},
   "outputs": [
    {
     "data": {
      "text/plain": [
       "{'id': 'chatcmpl-BG3xXEl042J1i9xLaKyFlVM0AxEIm',\n",
       " 'choices': [{'finish_reason': 'stop',\n",
       "   'index': 0,\n",
       "   'logprobs': None,\n",
       "   'message': {'content': '{\"temperature\":14.6,\"response\":\"The current temperature in Paris is 14.6°C. It\\'s a relatively mild day, perfect for exploring the city!\"}',\n",
       "    'refusal': None,\n",
       "    'role': 'assistant',\n",
       "    'annotations': [],\n",
       "    'audio': None,\n",
       "    'function_call': None,\n",
       "    'tool_calls': None,\n",
       "    'parsed': {'temperature': 14.6,\n",
       "     'response': \"The current temperature in Paris is 14.6°C. It's a relatively mild day, perfect for exploring the city!\"}}}],\n",
       " 'created': 1743168167,\n",
       " 'model': 'gpt-4o-2024-08-06',\n",
       " 'object': 'chat.completion',\n",
       " 'service_tier': 'default',\n",
       " 'system_fingerprint': 'fp_6dd05565ef',\n",
       " 'usage': {'completion_tokens': 40,\n",
       "  'prompt_tokens': 209,\n",
       "  'total_tokens': 249,\n",
       "  'completion_tokens_details': {'accepted_prediction_tokens': 0,\n",
       "   'audio_tokens': 0,\n",
       "   'reasoning_tokens': 0,\n",
       "   'rejected_prediction_tokens': 0},\n",
       "  'prompt_tokens_details': {'audio_tokens': 0, 'cached_tokens': 0}}}"
      ]
     },
     "execution_count": 31,
     "metadata": {},
     "output_type": "execute_result"
    }
   ],
   "source": [
    "completion_2.model_dump()"
   ]
  },
  {
   "cell_type": "code",
   "execution_count": 29,
   "id": "d5470c2e-5982-4e6a-9ec5-bcbf6593c6dc",
   "metadata": {},
   "outputs": [
    {
     "data": {
      "text/plain": [
       "14.6"
      ]
     },
     "execution_count": 29,
     "metadata": {},
     "output_type": "execute_result"
    }
   ],
   "source": [
    "final_response = completion_2.choices[0].message.parsed\n",
    "final_response.temperature"
   ]
  },
  {
   "cell_type": "code",
   "execution_count": 30,
   "id": "7b0397f3-1d19-4baf-82a2-7866f3145518",
   "metadata": {},
   "outputs": [
    {
     "data": {
      "text/plain": [
       "\"The current temperature in Paris is 14.6°C. It's a relatively mild day, perfect for exploring the city!\""
      ]
     },
     "execution_count": 30,
     "metadata": {},
     "output_type": "execute_result"
    }
   ],
   "source": [
    "final_response.response"
   ]
  },
  {
   "cell_type": "code",
   "execution_count": null,
   "id": "9f3541c4-4f40-4f20-a14c-f99e3a9e70c1",
   "metadata": {},
   "outputs": [],
   "source": []
  }
 ],
 "metadata": {
  "kernelspec": {
   "display_name": "Python 3 (ipykernel)",
   "language": "python",
   "name": "python3"
  },
  "language_info": {
   "codemirror_mode": {
    "name": "ipython",
    "version": 3
   },
   "file_extension": ".py",
   "mimetype": "text/x-python",
   "name": "python",
   "nbconvert_exporter": "python",
   "pygments_lexer": "ipython3",
   "version": "3.12.7"
  }
 },
 "nbformat": 4,
 "nbformat_minor": 5
}
