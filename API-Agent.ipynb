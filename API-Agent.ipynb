{
 "cells": [
  {
   "cell_type": "code",
   "execution_count": 33,
   "id": "b963808f-5bc8-46d1-9748-b1d093152f3b",
   "metadata": {},
   "outputs": [
    {
     "name": "stdout",
     "output_type": "stream",
     "text": [
      "API Key Loaded Successfully\n"
     ]
    }
   ],
   "source": [
    "import os\n",
    "from dotenv import load_dotenv\n",
    "from openai import OpenAI\n",
    "\n",
    "load_dotenv()\n",
    "\n",
    "openai_api_key = os.getenv(\"OPENAI_API_KEY\")\n",
    "client = OpenAI(api_key=openai_api_key)\n",
    "\n",
    "print(\"API Key Loaded Successfully\" if openai_api_key else \"API Key Not Found\")"
   ]
  },
  {
   "cell_type": "code",
   "execution_count": 34,
   "id": "1b7e3681-d5ef-4c3b-bfa8-925092802727",
   "metadata": {},
   "outputs": [],
   "source": [
    "from pydantic import BaseModel, Field\n",
    "\n",
    "class isWCNP(BaseModel):\n",
    "    isWcnp: bool"
   ]
  },
  {
   "cell_type": "code",
   "execution_count": 39,
   "id": "f4af2ee4-09f8-4553-acca-ae8e41c38a61",
   "metadata": {},
   "outputs": [],
   "source": [
    "identity_completion = client.beta.chat.completions.parse(\n",
    "    model=\"gpt-4o\",\n",
    "    messages=[\n",
    "        {\n",
    "            \"role\": \"system\", \n",
    "             \"content\": \"Identity wether user is asking about kubernetes or wcnp application. Do Note that kubernetes or Wcnp applications do have namespace and app\"},\n",
    "        {\n",
    "            \"role\": \"user\",\n",
    "            \"content\": \"what is the status of iro-prod wcnp app of item-assembler namespace?\",\n",
    "        },\n",
    "    ],\n",
    "    response_format=isWCNP\n",
    ")"
   ]
  },
  {
   "cell_type": "code",
   "execution_count": 40,
   "id": "b04fb128-e3d6-47bb-9061-90de67d9d6fb",
   "metadata": {},
   "outputs": [
    {
     "data": {
      "text/plain": [
       "True"
      ]
     },
     "execution_count": 40,
     "metadata": {},
     "output_type": "execute_result"
    }
   ],
   "source": [
    "wcnp = identity_completion.choices[0].message.parsed\n",
    "wcnp.isWcnp"
   ]
  },
  {
   "cell_type": "code",
   "execution_count": 19,
   "id": "5a78b906-b001-47ad-927a-8f16aabbcdfb",
   "metadata": {},
   "outputs": [],
   "source": [
    "# "
   ]
  },
  {
   "cell_type": "code",
   "execution_count": 41,
   "id": "5b40e9d3-6af4-41f1-afc3-dbe26e5e663d",
   "metadata": {},
   "outputs": [],
   "source": [
    "class WCNP(BaseModel):\n",
    "    namespace: str\n",
    "    appId: str"
   ]
  },
  {
   "cell_type": "code",
   "execution_count": 45,
   "id": "b4b43334-ab15-4d9a-85aa-ba5378a26647",
   "metadata": {},
   "outputs": [],
   "source": [
    "wcnp_completion = client.beta.chat.completions.parse(\n",
    "    model=\"gpt-4o\",\n",
    "    messages=[\n",
    "        {\"role\": \"system\", \"content\": \"Extract the kubernetes application information.\"},\n",
    "        {\n",
    "            \"role\": \"user\",\n",
    "            \"content\": \"what is the status of iro-prod app of item-assembler namespace?\",\n",
    "        },\n",
    "    ],\n",
    "    response_format=WCNP\n",
    ")"
   ]
  },
  {
   "cell_type": "code",
   "execution_count": 46,
   "id": "2a2b4bf1-d09a-4014-acea-2188c7aa2a5a",
   "metadata": {},
   "outputs": [
    {
     "data": {
      "text/plain": [
       "'item-assembler'"
      ]
     },
     "execution_count": 46,
     "metadata": {},
     "output_type": "execute_result"
    }
   ],
   "source": [
    "wcnp_app = wcnp_completion.choices[0].message.parsed\n",
    "wcnp_app.namespace"
   ]
  },
  {
   "cell_type": "code",
   "execution_count": 47,
   "id": "636c3305-cfcf-4bcf-9675-3dc87d5ce3db",
   "metadata": {},
   "outputs": [
    {
     "data": {
      "text/plain": [
       "'iro-prod'"
      ]
     },
     "execution_count": 47,
     "metadata": {},
     "output_type": "execute_result"
    }
   ],
   "source": [
    "wcnp_app.appId"
   ]
  },
  {
   "cell_type": "code",
   "execution_count": 48,
   "id": "57b9d02c-2e37-4204-a089-cf4d124b360a",
   "metadata": {},
   "outputs": [],
   "source": [
    "# "
   ]
  },
  {
   "cell_type": "code",
   "execution_count": 25,
   "id": "e28efba3-29f5-4aba-b4c9-64b9ad07c56a",
   "metadata": {},
   "outputs": [],
   "source": [
    "class Oneops(BaseModel):\n",
    "    org: str\n",
    "    assembly: str\n",
    "    platform: str"
   ]
  },
  {
   "cell_type": "code",
   "execution_count": 26,
   "id": "a49778d4-f2a8-41ed-bca5-ecc8a9a3dff4",
   "metadata": {},
   "outputs": [],
   "source": [
    "oneops_completion = client.beta.chat.completions.parse(\n",
    "    model=\"gpt-4o\",\n",
    "    messages=[\n",
    "        {\"role\": \"system\", \"content\": \"Extract the oneops application information.\"},\n",
    "        {\n",
    "            \"role\": \"user\",\n",
    "            \"content\": \"what is the status for platform iro-prod deployed in item-assembler assembly that belongs to iro?\",\n",
    "        },\n",
    "    ],\n",
    "    response_format=Oneops\n",
    ")"
   ]
  },
  {
   "cell_type": "code",
   "execution_count": 27,
   "id": "35870b27-ecd1-41f2-ac3f-918a72192e13",
   "metadata": {},
   "outputs": [
    {
     "data": {
      "text/plain": [
       "'iro'"
      ]
     },
     "execution_count": 27,
     "metadata": {},
     "output_type": "execute_result"
    }
   ],
   "source": [
    "oneops_app = oneops_completion.choices[0].message.parsed\n",
    "oneops_app.org"
   ]
  },
  {
   "cell_type": "code",
   "execution_count": 28,
   "id": "bd0b847c-75df-41eb-a7eb-479226c7e97e",
   "metadata": {},
   "outputs": [
    {
     "data": {
      "text/plain": [
       "'item-assembler'"
      ]
     },
     "execution_count": 28,
     "metadata": {},
     "output_type": "execute_result"
    }
   ],
   "source": [
    "oneops_app.assembly"
   ]
  },
  {
   "cell_type": "code",
   "execution_count": 29,
   "id": "57b24fff-bea9-406c-8391-b9b40259f42c",
   "metadata": {},
   "outputs": [
    {
     "data": {
      "text/plain": [
       "'iro-prod'"
      ]
     },
     "execution_count": 29,
     "metadata": {},
     "output_type": "execute_result"
    }
   ],
   "source": [
    "oneops_app.platform"
   ]
  },
  {
   "cell_type": "code",
   "execution_count": 30,
   "id": "f53439c4-08e7-4d8f-858d-df8ee9815e3d",
   "metadata": {},
   "outputs": [
    {
     "data": {
      "text/plain": [
       "Oneops(org='iro', assembly='item-assembler', platform='iro-prod')"
      ]
     },
     "execution_count": 30,
     "metadata": {},
     "output_type": "execute_result"
    }
   ],
   "source": [
    "oneops_app"
   ]
  },
  {
   "cell_type": "code",
   "execution_count": 31,
   "id": "a1af643d-44b3-4b2b-b5bd-b3e727aab9c1",
   "metadata": {},
   "outputs": [],
   "source": [
    "# "
   ]
  },
  {
   "cell_type": "code",
   "execution_count": 62,
   "id": "ab578001-bff5-458a-aace-79e2462ecf20",
   "metadata": {},
   "outputs": [],
   "source": [
    "import requests\n",
    "import json\n",
    "\n",
    "def get_oneops(org, assembly, platform):\n",
    "    response = requests.post(\n",
    "        \"http://localhost:9099/wcnp-app/test-wcnp\",\n",
    "        json={\"org\": org, \"assembly\": assembly, \"platform\": platform}\n",
    "    )\n",
    "    data = response.json()\n",
    "    return data\n",
    "\n",
    "def get_wcnp(namespace, appId):\n",
    "    response = requests.post(\n",
    "        \"http://localhost:9099/wcnp-app/test-wcnp\",\n",
    "        json={\"namespace\": namespace, \"appId\": appId}\n",
    "    )\n",
    "    data = response.json()\n",
    "    return data"
   ]
  },
  {
   "cell_type": "code",
   "execution_count": 63,
   "id": "b23083e0-698d-4342-a002-3adc63737de7",
   "metadata": {},
   "outputs": [],
   "source": [
    "# "
   ]
  },
  {
   "cell_type": "code",
   "execution_count": 64,
   "id": "df1f124f-c746-4937-aa0c-97e8c8d60ca3",
   "metadata": {},
   "outputs": [],
   "source": [
    "wcnp_tool = [\n",
    "    {\n",
    "        \"type\": \"function\",\n",
    "        \"function\": {\n",
    "            \"name\": \"get_wcnp\",\n",
    "            \"description\": \"Get WCNP application details\",\n",
    "            \"parameters\": {\n",
    "                \"type\": \"object\",\n",
    "                \"properties\": {\n",
    "                    \"namespace\": {\"type\": \"string\"},\n",
    "                    \"appId\": {\"type\": \"string\"},\n",
    "                },\n",
    "                \"required\": [\"namespace\", \"appId\"],\n",
    "                \"additionalProperties\": False,\n",
    "            },\n",
    "            \"strict\": True,\n",
    "        },\n",
    "    }\n",
    "]"
   ]
  },
  {
   "cell_type": "code",
   "execution_count": 65,
   "id": "8b43e443-06cc-4373-8ac1-160a38ae67c3",
   "metadata": {},
   "outputs": [],
   "source": [
    "system_prompt = \"You are a helpful assistant.\"\n",
    "\n",
    "messages = [\n",
    "    {\"role\": \"system\", \"content\": system_prompt},\n",
    "    {\"role\": \"user\", \"content\": \"what is the status of iro-prod app of item-assembler namespace?\"},\n",
    "]\n",
    "            \n",
    "\n",
    "wcnp_tool_completion = client.chat.completions.create(\n",
    "    model=\"gpt-4o\",\n",
    "    messages=messages,\n",
    "    tools=wcnp_tool,\n",
    ")"
   ]
  },
  {
   "cell_type": "code",
   "execution_count": 66,
   "id": "3671baa5-b148-4b9b-8584-f16695d45418",
   "metadata": {},
   "outputs": [
    {
     "data": {
      "text/plain": [
       "{'id': 'chatcmpl-BG6iyWeUnsejSKHkXuHZbK8e25YKv',\n",
       " 'choices': [{'finish_reason': 'tool_calls',\n",
       "   'index': 0,\n",
       "   'logprobs': None,\n",
       "   'message': {'content': None,\n",
       "    'refusal': None,\n",
       "    'role': 'assistant',\n",
       "    'annotations': [],\n",
       "    'audio': None,\n",
       "    'function_call': None,\n",
       "    'tool_calls': [{'id': 'call_pgHl2L0QrK8e4NDYU4vmw7OH',\n",
       "      'function': {'arguments': '{\"namespace\":\"item-assembler\",\"appId\":\"iro-prod\"}',\n",
       "       'name': 'get_wcnp'},\n",
       "      'type': 'function'}]}}],\n",
       " 'created': 1743178796,\n",
       " 'model': 'gpt-4o-2024-08-06',\n",
       " 'object': 'chat.completion',\n",
       " 'service_tier': 'default',\n",
       " 'system_fingerprint': 'fp_898ac29719',\n",
       " 'usage': {'completion_tokens': 25,\n",
       "  'prompt_tokens': 70,\n",
       "  'total_tokens': 95,\n",
       "  'completion_tokens_details': {'accepted_prediction_tokens': 0,\n",
       "   'audio_tokens': 0,\n",
       "   'reasoning_tokens': 0,\n",
       "   'rejected_prediction_tokens': 0},\n",
       "  'prompt_tokens_details': {'audio_tokens': 0, 'cached_tokens': 0}}}"
      ]
     },
     "execution_count": 66,
     "metadata": {},
     "output_type": "execute_result"
    }
   ],
   "source": [
    "wcnp_tool_completion.model_dump()"
   ]
  },
  {
   "cell_type": "code",
   "execution_count": 67,
   "id": "3b22eaac-39b7-4010-8d46-869036ebd817",
   "metadata": {},
   "outputs": [],
   "source": [
    "# "
   ]
  },
  {
   "cell_type": "code",
   "execution_count": null,
   "id": "60d68adf-4427-4573-9cb1-641b9e2c9950",
   "metadata": {},
   "outputs": [],
   "source": [
    "oneops_tool = [\n",
    "    {\n",
    "        \"type\": \"function\",\n",
    "        \"function\": {\n",
    "            \"name\": \"get_oneops\",\n",
    "            \"description\": \"Get WCNP application details\",\n",
    "            \"parameters\": {\n",
    "                \"type\": \"object\",\n",
    "                \"properties\": {\n",
    "                    \"org\": {\"type\": \"string\"},\n",
    "                    \"assembly\": {\"type\": \"string\"},\n",
    "                    \"platform\": {\"type\": \"string\"},\n",
    "                },\n",
    "                \"required\": [\"org\", \"assembly\", \"platform\"],\n",
    "                \"additionalProperties\": False,\n",
    "            },\n",
    "            \"strict\": True,\n",
    "        },\n",
    "    }\n",
    "]"
   ]
  },
  {
   "cell_type": "code",
   "execution_count": null,
   "id": "25bad313-6a25-4618-ae02-724a54c00e88",
   "metadata": {},
   "outputs": [],
   "source": [
    "system_prompt = \"You are a helpful assistant.\"\n",
    "\n",
    "messages = [\n",
    "    {\"role\": \"system\", \"content\": system_prompt},\n",
    "    {\"role\": \"user\", \"content\": \"what is the status of iro-prod app of item-assembler namespace?\"},\n",
    "]\n",
    "            \n",
    "\n",
    "oneops_tool_completion = client.chat.completions.create(\n",
    "    model=\"gpt-4o\",\n",
    "    messages=messages,\n",
    "    tools=oneops_tool,\n",
    ")"
   ]
  },
  {
   "cell_type": "code",
   "execution_count": null,
   "id": "22c295f9-c26b-402a-99b5-83c495ab845d",
   "metadata": {},
   "outputs": [],
   "source": [
    "oneops_tool_completion.model_dump()"
   ]
  },
  {
   "cell_type": "code",
   "execution_count": 54,
   "id": "7728beb5-09ec-46be-8f24-55fcd2c00cb9",
   "metadata": {},
   "outputs": [],
   "source": [
    "# "
   ]
  },
  {
   "cell_type": "code",
   "execution_count": 68,
   "id": "be7ee039-5bcc-476a-b612-0725abec1923",
   "metadata": {},
   "outputs": [],
   "source": [
    "def call_function(name, args):\n",
    "    if name == \"get_wcnp\":\n",
    "        return get_wcnp(**args)\n",
    "    elif name == \"get_oneops\":\n",
    "        return get_oneops(**args)"
   ]
  },
  {
   "cell_type": "code",
   "execution_count": 69,
   "id": "81eea92a-23c6-4406-a6d5-fb0d79122ba7",
   "metadata": {},
   "outputs": [],
   "source": [
    "for tool_call in wcnp_tool_completion.choices[0].message.tool_calls:\n",
    "    name = tool_call.function.name\n",
    "    args = json.loads(tool_call.function.arguments)\n",
    "    messages.append(wcnp_tool_completion.choices[0].message)\n",
    "\n",
    "    result = call_function(name, args)\n",
    "    messages.append(\n",
    "        {\"role\": \"tool\", \"tool_call_id\": tool_call.id, \"content\": json.dumps(result)}\n",
    "    )"
   ]
  },
  {
   "cell_type": "code",
   "execution_count": 78,
   "id": "1ce6aed3-4107-4b71-b22e-f6e42afb04be",
   "metadata": {},
   "outputs": [],
   "source": [
    "class WcnpResponse(BaseModel):\n",
    "    status: str = Field(\n",
    "        description=\"status of wcnp application\"\n",
    "    )\n",
    "    response: str = Field(\n",
    "        description=\"A natural language response to the user's question.\"\n",
    "    )\n",
    "\n",
    "class OneopsResponse(BaseModel):\n",
    "    status: str = Field(\n",
    "        description=\"status of oneops application\"\n",
    "    )\n",
    "    response: str = Field(\n",
    "        description=\"A natural language response to the user's question.\"\n",
    "    )"
   ]
  },
  {
   "cell_type": "code",
   "execution_count": 79,
   "id": "5823ea8a-0384-46d5-92f3-4b826bbb597b",
   "metadata": {},
   "outputs": [
    {
     "data": {
      "text/plain": [
       "[{'role': 'system', 'content': 'You are a helpful assistant.'},\n",
       " {'role': 'user',\n",
       "  'content': 'what is the status of iro-prod app of item-assembler namespace?'},\n",
       " ChatCompletionMessage(content=None, refusal=None, role='assistant', annotations=[], audio=None, function_call=None, tool_calls=[ChatCompletionMessageToolCall(id='call_pgHl2L0QrK8e4NDYU4vmw7OH', function=Function(arguments='{\"namespace\":\"item-assembler\",\"appId\":\"iro-prod\"}', name='get_wcnp'), type='function')]),\n",
       " {'role': 'tool',\n",
       "  'tool_call_id': 'call_pgHl2L0QrK8e4NDYU4vmw7OH',\n",
       "  'content': '{\"status\": \"iro-prod is deployed successfully in item-assembler\"}'}]"
      ]
     },
     "execution_count": 79,
     "metadata": {},
     "output_type": "execute_result"
    }
   ],
   "source": [
    "messages"
   ]
  },
  {
   "cell_type": "code",
   "execution_count": 80,
   "id": "48ba33be-c719-45c0-8600-6a744876138f",
   "metadata": {},
   "outputs": [],
   "source": [
    "final_wcnp_completion = client.beta.chat.completions.parse(\n",
    "    model=\"gpt-4o\",\n",
    "    messages=messages,\n",
    "    tools=wcnp_tool,\n",
    "    response_format=WcnpResponse,\n",
    ")"
   ]
  },
  {
   "cell_type": "code",
   "execution_count": 81,
   "id": "71b0ad24-c86a-423c-9921-778db513e27d",
   "metadata": {},
   "outputs": [
    {
     "data": {
      "text/plain": [
       "{'id': 'chatcmpl-BG6purfQYX6uBeIN2MvGqz6N6M8JD',\n",
       " 'choices': [{'finish_reason': 'stop',\n",
       "   'index': 0,\n",
       "   'logprobs': None,\n",
       "   'message': {'content': '{\"status\":\"iro-prod is deployed successfully in item-assembler\",\"response\":\"The iro-prod app in the item-assembler namespace is currently deployed successfully.\"}',\n",
       "    'refusal': None,\n",
       "    'role': 'assistant',\n",
       "    'annotations': [],\n",
       "    'audio': None,\n",
       "    'function_call': None,\n",
       "    'tool_calls': None,\n",
       "    'parsed': {'status': 'iro-prod is deployed successfully in item-assembler',\n",
       "     'response': 'The iro-prod app in the item-assembler namespace is currently deployed successfully.'}}}],\n",
       " 'created': 1743179226,\n",
       " 'model': 'gpt-4o-2024-08-06',\n",
       " 'object': 'chat.completion',\n",
       " 'service_tier': 'default',\n",
       " 'system_fingerprint': 'fp_898ac29719',\n",
       " 'usage': {'completion_tokens': 39,\n",
       "  'prompt_tokens': 185,\n",
       "  'total_tokens': 224,\n",
       "  'completion_tokens_details': {'accepted_prediction_tokens': 0,\n",
       "   'audio_tokens': 0,\n",
       "   'reasoning_tokens': 0,\n",
       "   'rejected_prediction_tokens': 0},\n",
       "  'prompt_tokens_details': {'audio_tokens': 0, 'cached_tokens': 0}}}"
      ]
     },
     "execution_count": 81,
     "metadata": {},
     "output_type": "execute_result"
    }
   ],
   "source": [
    "final_wcnp_completion.model_dump()"
   ]
  },
  {
   "cell_type": "code",
   "execution_count": 82,
   "id": "f953f947-61e4-4023-8d6d-c5926585d0e8",
   "metadata": {},
   "outputs": [
    {
     "data": {
      "text/plain": [
       "'iro-prod is deployed successfully in item-assembler'"
      ]
     },
     "execution_count": 82,
     "metadata": {},
     "output_type": "execute_result"
    }
   ],
   "source": [
    "final_response = final_wcnp_completion.choices[0].message.parsed\n",
    "final_response.status"
   ]
  },
  {
   "cell_type": "code",
   "execution_count": 83,
   "id": "7ff3690f-d0d5-4b80-8754-95245456fa73",
   "metadata": {},
   "outputs": [
    {
     "data": {
      "text/plain": [
       "'The iro-prod app in the item-assembler namespace is currently deployed successfully.'"
      ]
     },
     "execution_count": 83,
     "metadata": {},
     "output_type": "execute_result"
    }
   ],
   "source": [
    "final_response.response"
   ]
  },
  {
   "cell_type": "code",
   "execution_count": null,
   "id": "8cd319cf-7744-44e0-8bdc-fe9444c0cb4b",
   "metadata": {},
   "outputs": [],
   "source": []
  },
  {
   "cell_type": "code",
   "execution_count": null,
   "id": "8a624a14-a667-426b-aacc-0a6aaa685e3d",
   "metadata": {},
   "outputs": [],
   "source": []
  },
  {
   "cell_type": "code",
   "execution_count": null,
   "id": "a1befb97-6848-4a1e-9131-29ab18fdbb39",
   "metadata": {},
   "outputs": [],
   "source": []
  }
 ],
 "metadata": {
  "kernelspec": {
   "display_name": "Python 3 (ipykernel)",
   "language": "python",
   "name": "python3"
  },
  "language_info": {
   "codemirror_mode": {
    "name": "ipython",
    "version": 3
   },
   "file_extension": ".py",
   "mimetype": "text/x-python",
   "name": "python",
   "nbconvert_exporter": "python",
   "pygments_lexer": "ipython3",
   "version": "3.12.7"
  }
 },
 "nbformat": 4,
 "nbformat_minor": 5
}
